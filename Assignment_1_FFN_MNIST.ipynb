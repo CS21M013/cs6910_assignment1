{
  "nbformat": 4,
  "nbformat_minor": 0,
  "metadata": {
    "colab": {
      "name": "Assignment_1_FFN_MNIST",
      "provenance": [],
      "collapsed_sections": []
    },
    "kernelspec": {
      "name": "python3",
      "display_name": "Python 3"
    },
    "language_info": {
      "name": "python"
    },
    "widgets": {
      "application/vnd.jupyter.widget-state+json": {
        "b48ae847bf454bc0968a927ddc5fd068": {
          "model_module": "@jupyter-widgets/controls",
          "model_name": "VBoxModel",
          "model_module_version": "1.5.0",
          "state": {
            "_view_name": "VBoxView",
            "_dom_classes": [],
            "_model_name": "VBoxModel",
            "_view_module": "@jupyter-widgets/controls",
            "_model_module_version": "1.5.0",
            "_view_count": null,
            "_view_module_version": "1.5.0",
            "box_style": "",
            "layout": "IPY_MODEL_2c9b5db529aa48c5a3c6a28f0e0520a9",
            "_model_module": "@jupyter-widgets/controls",
            "children": [
              "IPY_MODEL_c90ca35ea69e4cf8a330983cb5da35b9",
              "IPY_MODEL_633c56fb264c4230bfeac75d695ff7a8"
            ]
          }
        },
        "2c9b5db529aa48c5a3c6a28f0e0520a9": {
          "model_module": "@jupyter-widgets/base",
          "model_name": "LayoutModel",
          "model_module_version": "1.2.0",
          "state": {
            "_view_name": "LayoutView",
            "grid_template_rows": null,
            "right": null,
            "justify_content": null,
            "_view_module": "@jupyter-widgets/base",
            "overflow": null,
            "_model_module_version": "1.2.0",
            "_view_count": null,
            "flex_flow": null,
            "width": null,
            "min_width": null,
            "border": null,
            "align_items": null,
            "bottom": null,
            "_model_module": "@jupyter-widgets/base",
            "top": null,
            "grid_column": null,
            "overflow_y": null,
            "overflow_x": null,
            "grid_auto_flow": null,
            "grid_area": null,
            "grid_template_columns": null,
            "flex": null,
            "_model_name": "LayoutModel",
            "justify_items": null,
            "grid_row": null,
            "max_height": null,
            "align_content": null,
            "visibility": null,
            "align_self": null,
            "height": null,
            "min_height": null,
            "padding": null,
            "grid_auto_rows": null,
            "grid_gap": null,
            "max_width": null,
            "order": null,
            "_view_module_version": "1.2.0",
            "grid_template_areas": null,
            "object_position": null,
            "object_fit": null,
            "grid_auto_columns": null,
            "margin": null,
            "display": null,
            "left": null
          }
        },
        "c90ca35ea69e4cf8a330983cb5da35b9": {
          "model_module": "@jupyter-widgets/controls",
          "model_name": "LabelModel",
          "model_module_version": "1.5.0",
          "state": {
            "_view_name": "LabelView",
            "style": "IPY_MODEL_9c1274b18be04692b1fbb137ca2e6dea",
            "_dom_classes": [],
            "description": "",
            "_model_name": "LabelModel",
            "placeholder": "​",
            "_view_module": "@jupyter-widgets/controls",
            "_model_module_version": "1.5.0",
            "value": " 0.01MB of 0.01MB uploaded (0.00MB deduped)\r",
            "_view_count": null,
            "_view_module_version": "1.5.0",
            "description_tooltip": null,
            "_model_module": "@jupyter-widgets/controls",
            "layout": "IPY_MODEL_e70efd90474e45f2abe32b5612f66650"
          }
        },
        "633c56fb264c4230bfeac75d695ff7a8": {
          "model_module": "@jupyter-widgets/controls",
          "model_name": "FloatProgressModel",
          "model_module_version": "1.5.0",
          "state": {
            "_view_name": "ProgressView",
            "style": "IPY_MODEL_48d5c2bd71b54386b279fe156e9e543c",
            "_dom_classes": [],
            "description": "",
            "_model_name": "FloatProgressModel",
            "bar_style": "",
            "max": 1,
            "_view_module": "@jupyter-widgets/controls",
            "_model_module_version": "1.5.0",
            "value": 1,
            "_view_count": null,
            "_view_module_version": "1.5.0",
            "orientation": "horizontal",
            "min": 0,
            "description_tooltip": null,
            "_model_module": "@jupyter-widgets/controls",
            "layout": "IPY_MODEL_7ec61a11793547f4bed78e346d01b52e"
          }
        },
        "9c1274b18be04692b1fbb137ca2e6dea": {
          "model_module": "@jupyter-widgets/controls",
          "model_name": "DescriptionStyleModel",
          "model_module_version": "1.5.0",
          "state": {
            "_view_name": "StyleView",
            "_model_name": "DescriptionStyleModel",
            "description_width": "",
            "_view_module": "@jupyter-widgets/base",
            "_model_module_version": "1.5.0",
            "_view_count": null,
            "_view_module_version": "1.2.0",
            "_model_module": "@jupyter-widgets/controls"
          }
        },
        "e70efd90474e45f2abe32b5612f66650": {
          "model_module": "@jupyter-widgets/base",
          "model_name": "LayoutModel",
          "model_module_version": "1.2.0",
          "state": {
            "_view_name": "LayoutView",
            "grid_template_rows": null,
            "right": null,
            "justify_content": null,
            "_view_module": "@jupyter-widgets/base",
            "overflow": null,
            "_model_module_version": "1.2.0",
            "_view_count": null,
            "flex_flow": null,
            "width": null,
            "min_width": null,
            "border": null,
            "align_items": null,
            "bottom": null,
            "_model_module": "@jupyter-widgets/base",
            "top": null,
            "grid_column": null,
            "overflow_y": null,
            "overflow_x": null,
            "grid_auto_flow": null,
            "grid_area": null,
            "grid_template_columns": null,
            "flex": null,
            "_model_name": "LayoutModel",
            "justify_items": null,
            "grid_row": null,
            "max_height": null,
            "align_content": null,
            "visibility": null,
            "align_self": null,
            "height": null,
            "min_height": null,
            "padding": null,
            "grid_auto_rows": null,
            "grid_gap": null,
            "max_width": null,
            "order": null,
            "_view_module_version": "1.2.0",
            "grid_template_areas": null,
            "object_position": null,
            "object_fit": null,
            "grid_auto_columns": null,
            "margin": null,
            "display": null,
            "left": null
          }
        },
        "48d5c2bd71b54386b279fe156e9e543c": {
          "model_module": "@jupyter-widgets/controls",
          "model_name": "ProgressStyleModel",
          "model_module_version": "1.5.0",
          "state": {
            "_view_name": "StyleView",
            "_model_name": "ProgressStyleModel",
            "description_width": "",
            "_view_module": "@jupyter-widgets/base",
            "_model_module_version": "1.5.0",
            "_view_count": null,
            "_view_module_version": "1.2.0",
            "bar_color": null,
            "_model_module": "@jupyter-widgets/controls"
          }
        },
        "7ec61a11793547f4bed78e346d01b52e": {
          "model_module": "@jupyter-widgets/base",
          "model_name": "LayoutModel",
          "model_module_version": "1.2.0",
          "state": {
            "_view_name": "LayoutView",
            "grid_template_rows": null,
            "right": null,
            "justify_content": null,
            "_view_module": "@jupyter-widgets/base",
            "overflow": null,
            "_model_module_version": "1.2.0",
            "_view_count": null,
            "flex_flow": null,
            "width": null,
            "min_width": null,
            "border": null,
            "align_items": null,
            "bottom": null,
            "_model_module": "@jupyter-widgets/base",
            "top": null,
            "grid_column": null,
            "overflow_y": null,
            "overflow_x": null,
            "grid_auto_flow": null,
            "grid_area": null,
            "grid_template_columns": null,
            "flex": null,
            "_model_name": "LayoutModel",
            "justify_items": null,
            "grid_row": null,
            "max_height": null,
            "align_content": null,
            "visibility": null,
            "align_self": null,
            "height": null,
            "min_height": null,
            "padding": null,
            "grid_auto_rows": null,
            "grid_gap": null,
            "max_width": null,
            "order": null,
            "_view_module_version": "1.2.0",
            "grid_template_areas": null,
            "object_position": null,
            "object_fit": null,
            "grid_auto_columns": null,
            "margin": null,
            "display": null,
            "left": null
          }
        },
        "c5c2c9ef604f462e9990ea452df0a7f1": {
          "model_module": "@jupyter-widgets/controls",
          "model_name": "VBoxModel",
          "model_module_version": "1.5.0",
          "state": {
            "_view_name": "VBoxView",
            "_dom_classes": [],
            "_model_name": "VBoxModel",
            "_view_module": "@jupyter-widgets/controls",
            "_model_module_version": "1.5.0",
            "_view_count": null,
            "_view_module_version": "1.5.0",
            "box_style": "",
            "layout": "IPY_MODEL_f332136522fe4fe8b2217332b6bedf15",
            "_model_module": "@jupyter-widgets/controls",
            "children": [
              "IPY_MODEL_1e2c8720541d4f959f2a44547da9215c",
              "IPY_MODEL_69143fed8a8c4eb6adb1559493b92e03"
            ]
          }
        },
        "f332136522fe4fe8b2217332b6bedf15": {
          "model_module": "@jupyter-widgets/base",
          "model_name": "LayoutModel",
          "model_module_version": "1.2.0",
          "state": {
            "_view_name": "LayoutView",
            "grid_template_rows": null,
            "right": null,
            "justify_content": null,
            "_view_module": "@jupyter-widgets/base",
            "overflow": null,
            "_model_module_version": "1.2.0",
            "_view_count": null,
            "flex_flow": null,
            "width": null,
            "min_width": null,
            "border": null,
            "align_items": null,
            "bottom": null,
            "_model_module": "@jupyter-widgets/base",
            "top": null,
            "grid_column": null,
            "overflow_y": null,
            "overflow_x": null,
            "grid_auto_flow": null,
            "grid_area": null,
            "grid_template_columns": null,
            "flex": null,
            "_model_name": "LayoutModel",
            "justify_items": null,
            "grid_row": null,
            "max_height": null,
            "align_content": null,
            "visibility": null,
            "align_self": null,
            "height": null,
            "min_height": null,
            "padding": null,
            "grid_auto_rows": null,
            "grid_gap": null,
            "max_width": null,
            "order": null,
            "_view_module_version": "1.2.0",
            "grid_template_areas": null,
            "object_position": null,
            "object_fit": null,
            "grid_auto_columns": null,
            "margin": null,
            "display": null,
            "left": null
          }
        },
        "1e2c8720541d4f959f2a44547da9215c": {
          "model_module": "@jupyter-widgets/controls",
          "model_name": "LabelModel",
          "model_module_version": "1.5.0",
          "state": {
            "_view_name": "LabelView",
            "style": "IPY_MODEL_15379ba38d654affb5dbbb3115afee67",
            "_dom_classes": [],
            "description": "",
            "_model_name": "LabelModel",
            "placeholder": "​",
            "_view_module": "@jupyter-widgets/controls",
            "_model_module_version": "1.5.0",
            "value": " 0.01MB of 0.01MB uploaded (0.00MB deduped)\r",
            "_view_count": null,
            "_view_module_version": "1.5.0",
            "description_tooltip": null,
            "_model_module": "@jupyter-widgets/controls",
            "layout": "IPY_MODEL_7829cb0cd2c243409c16d7520cac7770"
          }
        },
        "69143fed8a8c4eb6adb1559493b92e03": {
          "model_module": "@jupyter-widgets/controls",
          "model_name": "FloatProgressModel",
          "model_module_version": "1.5.0",
          "state": {
            "_view_name": "ProgressView",
            "style": "IPY_MODEL_2e46530970e548e8b3380816fd9c901a",
            "_dom_classes": [],
            "description": "",
            "_model_name": "FloatProgressModel",
            "bar_style": "",
            "max": 1,
            "_view_module": "@jupyter-widgets/controls",
            "_model_module_version": "1.5.0",
            "value": 1,
            "_view_count": null,
            "_view_module_version": "1.5.0",
            "orientation": "horizontal",
            "min": 0,
            "description_tooltip": null,
            "_model_module": "@jupyter-widgets/controls",
            "layout": "IPY_MODEL_68d8fb221b584d5e94fdb539e3b8b9fe"
          }
        },
        "15379ba38d654affb5dbbb3115afee67": {
          "model_module": "@jupyter-widgets/controls",
          "model_name": "DescriptionStyleModel",
          "model_module_version": "1.5.0",
          "state": {
            "_view_name": "StyleView",
            "_model_name": "DescriptionStyleModel",
            "description_width": "",
            "_view_module": "@jupyter-widgets/base",
            "_model_module_version": "1.5.0",
            "_view_count": null,
            "_view_module_version": "1.2.0",
            "_model_module": "@jupyter-widgets/controls"
          }
        },
        "7829cb0cd2c243409c16d7520cac7770": {
          "model_module": "@jupyter-widgets/base",
          "model_name": "LayoutModel",
          "model_module_version": "1.2.0",
          "state": {
            "_view_name": "LayoutView",
            "grid_template_rows": null,
            "right": null,
            "justify_content": null,
            "_view_module": "@jupyter-widgets/base",
            "overflow": null,
            "_model_module_version": "1.2.0",
            "_view_count": null,
            "flex_flow": null,
            "width": null,
            "min_width": null,
            "border": null,
            "align_items": null,
            "bottom": null,
            "_model_module": "@jupyter-widgets/base",
            "top": null,
            "grid_column": null,
            "overflow_y": null,
            "overflow_x": null,
            "grid_auto_flow": null,
            "grid_area": null,
            "grid_template_columns": null,
            "flex": null,
            "_model_name": "LayoutModel",
            "justify_items": null,
            "grid_row": null,
            "max_height": null,
            "align_content": null,
            "visibility": null,
            "align_self": null,
            "height": null,
            "min_height": null,
            "padding": null,
            "grid_auto_rows": null,
            "grid_gap": null,
            "max_width": null,
            "order": null,
            "_view_module_version": "1.2.0",
            "grid_template_areas": null,
            "object_position": null,
            "object_fit": null,
            "grid_auto_columns": null,
            "margin": null,
            "display": null,
            "left": null
          }
        },
        "2e46530970e548e8b3380816fd9c901a": {
          "model_module": "@jupyter-widgets/controls",
          "model_name": "ProgressStyleModel",
          "model_module_version": "1.5.0",
          "state": {
            "_view_name": "StyleView",
            "_model_name": "ProgressStyleModel",
            "description_width": "",
            "_view_module": "@jupyter-widgets/base",
            "_model_module_version": "1.5.0",
            "_view_count": null,
            "_view_module_version": "1.2.0",
            "bar_color": null,
            "_model_module": "@jupyter-widgets/controls"
          }
        },
        "68d8fb221b584d5e94fdb539e3b8b9fe": {
          "model_module": "@jupyter-widgets/base",
          "model_name": "LayoutModel",
          "model_module_version": "1.2.0",
          "state": {
            "_view_name": "LayoutView",
            "grid_template_rows": null,
            "right": null,
            "justify_content": null,
            "_view_module": "@jupyter-widgets/base",
            "overflow": null,
            "_model_module_version": "1.2.0",
            "_view_count": null,
            "flex_flow": null,
            "width": null,
            "min_width": null,
            "border": null,
            "align_items": null,
            "bottom": null,
            "_model_module": "@jupyter-widgets/base",
            "top": null,
            "grid_column": null,
            "overflow_y": null,
            "overflow_x": null,
            "grid_auto_flow": null,
            "grid_area": null,
            "grid_template_columns": null,
            "flex": null,
            "_model_name": "LayoutModel",
            "justify_items": null,
            "grid_row": null,
            "max_height": null,
            "align_content": null,
            "visibility": null,
            "align_self": null,
            "height": null,
            "min_height": null,
            "padding": null,
            "grid_auto_rows": null,
            "grid_gap": null,
            "max_width": null,
            "order": null,
            "_view_module_version": "1.2.0",
            "grid_template_areas": null,
            "object_position": null,
            "object_fit": null,
            "grid_auto_columns": null,
            "margin": null,
            "display": null,
            "left": null
          }
        },
        "52fe14b49a1343b881d6ba75e619d717": {
          "model_module": "@jupyter-widgets/controls",
          "model_name": "VBoxModel",
          "model_module_version": "1.5.0",
          "state": {
            "_view_name": "VBoxView",
            "_dom_classes": [],
            "_model_name": "VBoxModel",
            "_view_module": "@jupyter-widgets/controls",
            "_model_module_version": "1.5.0",
            "_view_count": null,
            "_view_module_version": "1.5.0",
            "box_style": "",
            "layout": "IPY_MODEL_4651399769d44250875d9d0fc90bf1bc",
            "_model_module": "@jupyter-widgets/controls",
            "children": [
              "IPY_MODEL_05d2757c96aa4158bdf116f1cb6e5dde",
              "IPY_MODEL_f866ec738eeb49c89e699d7c42170a23"
            ]
          }
        },
        "4651399769d44250875d9d0fc90bf1bc": {
          "model_module": "@jupyter-widgets/base",
          "model_name": "LayoutModel",
          "model_module_version": "1.2.0",
          "state": {
            "_view_name": "LayoutView",
            "grid_template_rows": null,
            "right": null,
            "justify_content": null,
            "_view_module": "@jupyter-widgets/base",
            "overflow": null,
            "_model_module_version": "1.2.0",
            "_view_count": null,
            "flex_flow": null,
            "width": null,
            "min_width": null,
            "border": null,
            "align_items": null,
            "bottom": null,
            "_model_module": "@jupyter-widgets/base",
            "top": null,
            "grid_column": null,
            "overflow_y": null,
            "overflow_x": null,
            "grid_auto_flow": null,
            "grid_area": null,
            "grid_template_columns": null,
            "flex": null,
            "_model_name": "LayoutModel",
            "justify_items": null,
            "grid_row": null,
            "max_height": null,
            "align_content": null,
            "visibility": null,
            "align_self": null,
            "height": null,
            "min_height": null,
            "padding": null,
            "grid_auto_rows": null,
            "grid_gap": null,
            "max_width": null,
            "order": null,
            "_view_module_version": "1.2.0",
            "grid_template_areas": null,
            "object_position": null,
            "object_fit": null,
            "grid_auto_columns": null,
            "margin": null,
            "display": null,
            "left": null
          }
        },
        "05d2757c96aa4158bdf116f1cb6e5dde": {
          "model_module": "@jupyter-widgets/controls",
          "model_name": "LabelModel",
          "model_module_version": "1.5.0",
          "state": {
            "_view_name": "LabelView",
            "style": "IPY_MODEL_812872a68f88426fa429723f0a5c3b1e",
            "_dom_classes": [],
            "description": "",
            "_model_name": "LabelModel",
            "placeholder": "​",
            "_view_module": "@jupyter-widgets/controls",
            "_model_module_version": "1.5.0",
            "value": " 0.01MB of 0.01MB uploaded (0.00MB deduped)\r",
            "_view_count": null,
            "_view_module_version": "1.5.0",
            "description_tooltip": null,
            "_model_module": "@jupyter-widgets/controls",
            "layout": "IPY_MODEL_93af0f77f8594e9f8c8603b7ee940982"
          }
        },
        "f866ec738eeb49c89e699d7c42170a23": {
          "model_module": "@jupyter-widgets/controls",
          "model_name": "FloatProgressModel",
          "model_module_version": "1.5.0",
          "state": {
            "_view_name": "ProgressView",
            "style": "IPY_MODEL_877686c5f0324579a0ed1830ca472120",
            "_dom_classes": [],
            "description": "",
            "_model_name": "FloatProgressModel",
            "bar_style": "",
            "max": 1,
            "_view_module": "@jupyter-widgets/controls",
            "_model_module_version": "1.5.0",
            "value": 1,
            "_view_count": null,
            "_view_module_version": "1.5.0",
            "orientation": "horizontal",
            "min": 0,
            "description_tooltip": null,
            "_model_module": "@jupyter-widgets/controls",
            "layout": "IPY_MODEL_f29f44389f8b4a48b3b893d333f15884"
          }
        },
        "812872a68f88426fa429723f0a5c3b1e": {
          "model_module": "@jupyter-widgets/controls",
          "model_name": "DescriptionStyleModel",
          "model_module_version": "1.5.0",
          "state": {
            "_view_name": "StyleView",
            "_model_name": "DescriptionStyleModel",
            "description_width": "",
            "_view_module": "@jupyter-widgets/base",
            "_model_module_version": "1.5.0",
            "_view_count": null,
            "_view_module_version": "1.2.0",
            "_model_module": "@jupyter-widgets/controls"
          }
        },
        "93af0f77f8594e9f8c8603b7ee940982": {
          "model_module": "@jupyter-widgets/base",
          "model_name": "LayoutModel",
          "model_module_version": "1.2.0",
          "state": {
            "_view_name": "LayoutView",
            "grid_template_rows": null,
            "right": null,
            "justify_content": null,
            "_view_module": "@jupyter-widgets/base",
            "overflow": null,
            "_model_module_version": "1.2.0",
            "_view_count": null,
            "flex_flow": null,
            "width": null,
            "min_width": null,
            "border": null,
            "align_items": null,
            "bottom": null,
            "_model_module": "@jupyter-widgets/base",
            "top": null,
            "grid_column": null,
            "overflow_y": null,
            "overflow_x": null,
            "grid_auto_flow": null,
            "grid_area": null,
            "grid_template_columns": null,
            "flex": null,
            "_model_name": "LayoutModel",
            "justify_items": null,
            "grid_row": null,
            "max_height": null,
            "align_content": null,
            "visibility": null,
            "align_self": null,
            "height": null,
            "min_height": null,
            "padding": null,
            "grid_auto_rows": null,
            "grid_gap": null,
            "max_width": null,
            "order": null,
            "_view_module_version": "1.2.0",
            "grid_template_areas": null,
            "object_position": null,
            "object_fit": null,
            "grid_auto_columns": null,
            "margin": null,
            "display": null,
            "left": null
          }
        },
        "877686c5f0324579a0ed1830ca472120": {
          "model_module": "@jupyter-widgets/controls",
          "model_name": "ProgressStyleModel",
          "model_module_version": "1.5.0",
          "state": {
            "_view_name": "StyleView",
            "_model_name": "ProgressStyleModel",
            "description_width": "",
            "_view_module": "@jupyter-widgets/base",
            "_model_module_version": "1.5.0",
            "_view_count": null,
            "_view_module_version": "1.2.0",
            "bar_color": null,
            "_model_module": "@jupyter-widgets/controls"
          }
        },
        "f29f44389f8b4a48b3b893d333f15884": {
          "model_module": "@jupyter-widgets/base",
          "model_name": "LayoutModel",
          "model_module_version": "1.2.0",
          "state": {
            "_view_name": "LayoutView",
            "grid_template_rows": null,
            "right": null,
            "justify_content": null,
            "_view_module": "@jupyter-widgets/base",
            "overflow": null,
            "_model_module_version": "1.2.0",
            "_view_count": null,
            "flex_flow": null,
            "width": null,
            "min_width": null,
            "border": null,
            "align_items": null,
            "bottom": null,
            "_model_module": "@jupyter-widgets/base",
            "top": null,
            "grid_column": null,
            "overflow_y": null,
            "overflow_x": null,
            "grid_auto_flow": null,
            "grid_area": null,
            "grid_template_columns": null,
            "flex": null,
            "_model_name": "LayoutModel",
            "justify_items": null,
            "grid_row": null,
            "max_height": null,
            "align_content": null,
            "visibility": null,
            "align_self": null,
            "height": null,
            "min_height": null,
            "padding": null,
            "grid_auto_rows": null,
            "grid_gap": null,
            "max_width": null,
            "order": null,
            "_view_module_version": "1.2.0",
            "grid_template_areas": null,
            "object_position": null,
            "object_fit": null,
            "grid_auto_columns": null,
            "margin": null,
            "display": null,
            "left": null
          }
        }
      }
    }
  },
  "cells": [
    {
      "cell_type": "code",
      "execution_count": null,
      "metadata": {
        "id": "G_5CsOYjOYhO"
      },
      "outputs": [],
      "source": [
        "import numpy as np\n",
        "class Layer:\n",
        "    def __init__(self, hidden_units: int, activation:str=None):\n",
        "        self.hidden_units = hidden_units\n",
        "        self.activation = activation\n",
        "        self.W = None\n",
        "        self.b = None\n",
        "        \n",
        "    def initialize_params(self, n_in, hidden_units,init_type):\n",
        "        np.random.seed(2)\n",
        "        if init_type==\"Random\":\n",
        "            self.W = 0.01*np.random.randn(n_in, hidden_units)\n",
        "            self.b = 0.01*np.random.randn(1,hidden_units)\n",
        "\n",
        "        elif init_type==\"Xavier\":\n",
        "            self.W = np.random.randn(n_in, hidden_units) * np.sqrt(2/n_in) \n",
        "            self.b = np.zeros((1, hidden_units))\n",
        "\n",
        "    def activation_fn(self, z, derivative=False):\n",
        "        if self.activation == 'relu':\n",
        "            if derivative:\n",
        "                return np.where(z<=0,0,1)\n",
        "            return np.maximum(0, z)\n",
        "        if self.activation == 'sigmoid':\n",
        "            if derivative:\n",
        "                return (1 / (1 + np.exp(-z))) * (1-(1 / (1 + np.exp(-z))))\n",
        "            return (1 / (1 + np.exp(-z)))\n",
        "        if self.activation == 'tanh':\n",
        "            t=(np.exp(z)-np.exp(-z))/(np.exp(z)+np.exp(-z))\n",
        "            if derivative:\n",
        "                return (1-t**2)\n",
        "            return t\n",
        "\n",
        "        if self.activation == 'softmax':\n",
        "            if derivative: \n",
        "                exp = np.exp(z - np.max(z, axis=1, keepdims=True))\n",
        "                return exp / np.sum(exp, axis=0) * (1 - exp / np.sum(exp, axis=0))\n",
        "            exp = np.exp(z - np.max(z, axis=1, keepdims=True))\n",
        "            return exp / np.sum(exp, axis=1, keepdims=True)\n",
        "\n",
        "    def __repr__(self):\n",
        "        return str(f'''Hidden Units={self.hidden_units}; Activation={self.activation}''')"
      ]
    },
    {
      "cell_type": "code",
      "source": [
        "import numpy as np\n",
        "class Helper:\n",
        "    def accuracy(self,y,y_hat):\n",
        "        c = np.argmax(y_hat, axis=1) == np.argmax(y, axis=1)\n",
        "        acc = list(c).count(True) / len(c) * 100\n",
        "        return acc\n",
        "\n",
        "    def compute_loss(self,Y, Y_hat,layers,loss_type=\"CrossEntropy\",reg=0):\n",
        "        if loss_type==\"CrossEntropy\":\n",
        "            m = Y.shape[0]\n",
        "            L = -1./m * np.sum(Y * np.log(Y_hat+0.0000000001))\n",
        "        elif loss_type==\"SquaredError\":\n",
        "            L = np.mean((Y- Y_hat)**2)\n",
        "\n",
        "        if reg!=0:\n",
        "            reg_error = 0.0                                                                       \n",
        "            for idx in layers.keys() :\n",
        "              reg_error += (reg/2)*(np.sum(np.square(layers[idx].W))) \n",
        "            L = L + reg_error\n",
        "\n",
        "        return L\n",
        "    \n",
        "    def create_batches(self,x, y, batch_size):\n",
        "        m = x.shape[0]\n",
        "        num_batches = m / batch_size\n",
        "        batches = []\n",
        "        for i in range(int(num_batches+1)):\n",
        "            batch_x = x[i*batch_size:(i+1)*batch_size]\n",
        "            batch_y = y[i*batch_size:(i+1)*batch_size]\n",
        "            batches.append((batch_x, batch_y))\n",
        "        \n",
        "        if m % batch_size == 0:\n",
        "            batches.pop(-1)\n",
        "\n",
        "        return batches\n",
        "    "
      ],
      "metadata": {
        "id": "8HJtRgK3O4Wt"
      },
      "execution_count": null,
      "outputs": []
    },
    {
      "cell_type": "code",
      "source": [
        "import numpy as np\n",
        "from sklearn.model_selection import train_test_split\n",
        "class Neural_Network:\n",
        "    def __init__(self):\n",
        "        self.layers = dict()\n",
        "        self.cache = dict()\n",
        "        self.grads = dict()\n",
        "        \n",
        "    def add(self, layer):\n",
        "        self.layers[len(self.layers)+1] = layer\n",
        "\n",
        "    def forward(self, x, init_type=\"Xavier\"):\n",
        "        for idx, layer in self.layers.items():\n",
        "\n",
        "            layer.input = np.array(x, copy=True)\n",
        "            if layer.W is None:\n",
        "                layer.initialize_params(layer.input.shape[-1], layer.hidden_units,init_type)\n",
        "\n",
        "            layer.Z = x @ layer.W + layer.b\n",
        "        \n",
        "            if layer.activation is not None:\n",
        "                layer.A = layer.activation_fn(layer.Z)\n",
        "                x = layer.A\n",
        "            else:\n",
        "                x = layer.Z\n",
        "            #x = layer.forward(x)\n",
        "            self.cache[f'W{idx}'] = layer.W\n",
        "            self.cache[f'Z{idx}'] = layer.Z\n",
        "            self.cache[f'A{idx}'] = layer.A\n",
        "        return x\n",
        "\n",
        "    def backward(self, y, loss_type,reg=0):\n",
        "        last_layer_idx = max(self.layers.keys())\n",
        "        m = y.shape[0]\n",
        "        for idx in reversed(range(1, last_layer_idx+1)):\n",
        "            if idx == last_layer_idx:\n",
        "                if loss_type==\"CrossEntropy\":\n",
        "                    self.grads[f'dZ{idx}'] = self.cache[f'A{idx}'] - y\n",
        "                elif loss_type==\"SquaredError\":\n",
        "                    self.grads[f'dZ{idx}'] = (self.cache[f'A{idx}'] - y) * self.layers[idx].activation_fn(self.cache[f'Z{idx}'], derivative=True)\n",
        "            else:\n",
        "                self.grads[f'dZ{idx}'] = self.grads[f'dZ{idx+1}'] @ self.cache[f'W{idx+1}'].T *\\\n",
        "                                        self.layers[idx].activation_fn(self.cache[f'Z{idx}'], derivative=True)\n",
        "\n",
        "\n",
        "            self.grads[f'dW{idx}'] = 1 / m * self.layers[idx].input.T @ self.grads[f'dZ{idx}'] + reg*self.layers[idx].W\n",
        "            self.grads[f'db{idx}'] = 1 / m * np.sum(self.grads[f'dZ{idx}'], axis=0, keepdims=True)\n",
        "            \n",
        "            assert self.grads[f'dW{idx}'].shape == self.cache[f'W{idx}'].shape\n",
        "\n",
        "    def GDoptimize(self, idx, epoch_num, steps, learning_rate=1e-3):\n",
        "        \n",
        "        self.layers[idx].W -= learning_rate * self.grads[f'dW{idx}']\n",
        "        self.layers[idx].b -= learning_rate * self.grads[f'db{idx}']\n",
        "\n",
        "    \n",
        "    def SGDMoptimize(self, idx, epoch_num, steps, learning_rate=1e-3, mu=0.99):\n",
        "        m = dict()\n",
        "        for i in self.layers.keys():\n",
        "            m[f'W{i}'] = 0\n",
        "            m[f'b{i}'] = 0\n",
        "\n",
        "        m[f'W{idx}'] = m[f'W{idx}'] * mu - learning_rate * self.grads[f'dW{idx}']\n",
        "        m[f'b{idx}'] = m[f'b{idx}'] * mu - learning_rate * self.grads[f'db{idx}']\n",
        "\n",
        "        self.layers[idx].W += m[f'W{idx}']\n",
        "        self.layers[idx].b += m[f'b{idx}']\n",
        "\n",
        "    def Nesterovoptimize(self, idx, epoch_num, steps, learning_rate=1e-3, mu=0.99):\n",
        "        m = dict()\n",
        "        for i in self.layers.keys():\n",
        "            m[f'W{i}'] = 0\n",
        "            m[f'b{i}'] = 0\n",
        "\n",
        "        mW_prev =  np.array(m[f'W{idx}'], copy=True)\n",
        "        mb_prev = np.array(m[f'b{idx}'], copy=True)\n",
        "\n",
        "        m[f'W{idx}'] = m[f'W{idx}'] * mu - learning_rate * self.grads[f'dW{idx}']\n",
        "        m[f'b{idx}'] = m[f'b{idx}'] * mu - learning_rate * self.grads[f'db{idx}']\n",
        "    \n",
        "        w_update = -mu * mW_prev + (1 + mu) * m[f'W{idx}']\n",
        "        b_update = -mu * mb_prev + (1 + mu) * m[f'b{idx}']\n",
        "\n",
        "        self.layers[idx].W += w_update\n",
        "        self.layers[idx].b += b_update\n",
        "\n",
        "    def RMSpropoptimize(self, idx, epoch_num, steps,learning_rate=1e-3,decay_rate=0.99, epsilon=1e-8):\n",
        "        v = dict()\n",
        "        for i in self.layers.keys():\n",
        "            v[f'W{i}'] = 0\n",
        "            v[f'b{i}'] = 0\n",
        "        v[f'W{idx}'] = decay_rate * v[f'W{idx}'] + (1 - decay_rate) * self.grads[f'dW{idx}'] **2 \n",
        "        v[f'b{idx}'] = decay_rate * v[f'b{idx}'] + (1 - decay_rate) * self.grads[f'db{idx}'] **2\n",
        "            \n",
        "        w_update = -learning_rate * self.grads[f'dW{idx}'] / (np.sqrt(v[f'W{idx}'] + epsilon))\n",
        "        b_update = -learning_rate * self.grads[f'db{idx}'] / (np.sqrt(v[f'b{idx}']+ epsilon))\n",
        "\n",
        "        self.layers[idx].W += w_update\n",
        "        self.layers[idx].b += b_update\n",
        "\n",
        "    def Adamoptimize(self, idx, epoch_num, steps,learning_rate=1e-3, beta1=0.99, beta2=0.999, epsilon=1e-8): \n",
        "        m = dict()\n",
        "        v = dict()\n",
        "\n",
        "        for i in self.layers.keys():\n",
        "            m[f'W{i}'] = 0\n",
        "            m[f'b{i}'] = 0\n",
        "            v[f'W{i}'] = 0\n",
        "            v[f'b{i}'] = 0\n",
        "\n",
        "        dW = self.grads[f'dW{idx}']\n",
        "        db = self.grads[f'db{idx}']\n",
        "\n",
        "        # weights\n",
        "        m[f'W{idx}'] = beta1 * m[f'W{idx}'] + (1 - beta1) * dW\n",
        "        v[f'W{idx}'] = beta2 * v[f'W{idx}'] + (1 - beta2) * dW ** 2 \n",
        "        \n",
        "        # biases\n",
        "        m[f'b{idx}'] = beta1 * m[f'b{idx}'] + (1 - beta1) * db\n",
        "        v[f'b{idx}'] = beta2 * v[f'b{idx}'] + (1 - beta2) * db ** 2 \n",
        "\n",
        "        # take timestep into account\n",
        "        mt_w  = m[f'W{idx}'] / (1 - beta1 ** steps)\n",
        "        vt_w = v[f'W{idx}'] / (1 - beta2 ** steps)\n",
        "\n",
        "        mt_b  = m[f'b{idx}'] / (1 - beta1 ** steps)\n",
        "        vt_b = v[f'b{idx}'] / (1 - beta2 ** steps)\n",
        "\n",
        "        w_update = - learning_rate * mt_w / (np.sqrt(vt_w) + epsilon)\n",
        "        b_update = - learning_rate * mt_b / (np.sqrt(vt_b) + epsilon)\n",
        "\n",
        "        self.layers[idx].W += w_update\n",
        "        self.layers[idx].b += b_update\n",
        "\n",
        "    def Nadamoptimize(self, idx, epoch_num, steps,learning_rate=1e-3, beta1=0.99, beta2=0.999, epsilon=1e-8): \n",
        "        m = dict()\n",
        "        v = dict()\n",
        "\n",
        "        for i in self.layers.keys():\n",
        "            m[f'W{i}'] = 0\n",
        "            m[f'b{i}'] = 0\n",
        "            v[f'W{i}'] = 0\n",
        "            v[f'b{i}'] = 0\n",
        "        dW = self.grads[f'dW{idx}']\n",
        "        db = self.grads[f'db{idx}']\n",
        "            # weights\n",
        "        m[f'W{idx}'] = beta1 * m[f'W{idx}'] + (1 - beta1) * dW\n",
        "        v[f'W{idx}'] = beta2 * v[f'W{idx}'] + (1 - beta2) * dW ** 2 \n",
        "            \n",
        "            # biases\n",
        "        m[f'b{idx}'] = beta1 * m[f'b{idx}'] + (1 - beta1) * db\n",
        "        v[f'b{idx}'] = beta2 * v[f'b{idx}'] + (1 - beta2) * db ** 2 \n",
        "\n",
        "            # take timestep into account\n",
        "        mt_w  = m[f'W{idx}'] / (1 - beta1 ** steps)\n",
        "        vt_w = v[f'W{idx}'] / (1 - beta2 ** steps)\n",
        "\n",
        "        mt_b  = m[f'b{idx}'] / (1 - beta1 ** steps)\n",
        "        vt_b = v[f'b{idx}'] / (1 - beta2 ** steps)\n",
        "\n",
        "        w_update = - learning_rate / (np.sqrt(vt_w) + epsilon) * (beta1 * mt_w + (1 - beta1) *  dW / (1 - beta1 ** steps))\n",
        "        b_update = - learning_rate / (np.sqrt(vt_b) + epsilon) * (beta1 * mt_b + (1 - beta1) *  db / (1 - beta1 ** steps))\n",
        "\n",
        "        self.layers[idx].W += w_update\n",
        "        self.layers[idx].b += b_update\n",
        "            \n",
        "    def fit(self, x_train, y_train,batch_size=32,epochs=500, learning_rate=1e-3, optimizer=\"GD\",val_split=0.1,init_type=\"Xavier\",loss_type=\"CrossEntropy\",reg=0):\n",
        "        '''Training cycle of the model object'''\n",
        "        losses = []\n",
        "        train_accs = []\n",
        "        val_accs = []\n",
        "        help=Helper()\n",
        "        \n",
        "        self.epochs = epochs\n",
        "        self.optimizer = optimizer\n",
        "        self.learning_rate = learning_rate\n",
        "        self.init_type=init_type\n",
        "        self.reg=reg\n",
        "        self.loss_type=loss_type\n",
        "\n",
        "        x_train,x_val,y_train,y_val=train_test_split(x_train,y_train,test_size=val_split,stratify=y_train,random_state=42)\n",
        "\n",
        "        for i in range(1, self.epochs+1):\n",
        "            print(f'Epoch {i}')\n",
        "            batches = help.create_batches(x_train, y_train, batch_size)\n",
        "            epoch_loss = []\n",
        "            steps = 0\n",
        "            \n",
        "            for x, y in batches:\n",
        "                steps += 1\n",
        "                preds = self.forward(x,self.init_type)\n",
        "                #loss = help.compute_loss(y, preds,self.layers,self.loss_type,self.reg)\n",
        "                #epoch_loss.append(loss)\n",
        "\n",
        "                # Backward propagation - calculation of gradients \n",
        "                self.backward(y,self.loss_type,self.reg)\n",
        "                \n",
        "                # update weights and biases of each layer\n",
        "                for idx in self.layers.keys():\n",
        "                    if self.optimizer ==\"GD\":\n",
        "                        self.GDoptimize(idx, i, steps,learning_rate=self.learning_rate)\n",
        "                    elif self.optimizer==\"SGDM\":\n",
        "                        self.SGDMoptimize(idx, i, steps,learning_rate=self.learning_rate)\n",
        "                    elif self.optimizer==\"Nesterov\":\n",
        "                        self.Nesterovoptimize(idx, i, steps,learning_rate=self.learning_rate)\n",
        "                    elif self.optimizer==\"RMSprop\":\n",
        "                        self.RMSpropoptimize(idx, i, steps,learning_rate=self.learning_rate)\n",
        "                    elif self.optimizer==\"Adam\":\n",
        "                        self.Adamoptimize(idx, i, steps,learning_rate=self.learning_rate)\n",
        "                    elif self.optimizer==\"Nadam\":\n",
        "                        self.Nadamoptimize(idx, i, steps,learning_rate=self.learning_rate)\n",
        "                \n",
        "            #loss = sum(epoch_loss) / len(epoch_loss)\n",
        "            #losses.append(loss)\n",
        "\n",
        "            # Predict with network on x_train\n",
        "            train_preds = self.forward(x_train)\n",
        "            train_loss = help.compute_loss(y, preds,self.layers,self.loss_type,self.reg)\n",
        "            train_acc=help.accuracy(train_preds,y_train)\n",
        "            train_accs.append(train_acc)\n",
        "            \n",
        "            # Predict with network on x_val\n",
        "\n",
        "            val_preds = self.forward(x_val)\n",
        "            val_acc=help.accuracy(val_preds,y_val)\n",
        "            val_accs.append(val_acc)\n",
        "            val_loss = help.compute_loss(y_val, val_preds,self.layers,self.loss_type,self.reg)\n",
        "\n",
        "            print(f'Train Loss:{train_loss} Train Acc: {train_acc} Val Acc: {val_acc} Val Loss: {val_loss}')   \n",
        "            wandb.log(\n",
        "        {\"Train/Loss\": train_loss, \"Train/Accuracy\": train_acc, \"Val/Accuracy\": val_acc, \"Val/Loss\":val_loss,\"Epoch\":i})\n",
        "                \n",
        "        self.history = {'train_loss': losses, 'train_acc': train_accs, 'val_acc': val_accs}\n",
        "        \n",
        "        \n",
        "\n",
        "\n",
        "    def predict(self,x):\n",
        "        preds=self.forward(x)\n",
        "        return preds"
      ],
      "metadata": {
        "id": "4eYJnhuUO6kk"
      },
      "execution_count": null,
      "outputs": []
    },
    {
      "cell_type": "code",
      "source": [
        "! pip install wandb\n",
        "! wandb login"
      ],
      "metadata": {
        "colab": {
          "base_uri": "https://localhost:8080/"
        },
        "id": "5R6ZQJfoO7KV",
        "outputId": "3734f573-eeed-4346-846d-b29722991bd6"
      },
      "execution_count": null,
      "outputs": [
        {
          "output_type": "stream",
          "name": "stdout",
          "text": [
            "Requirement already satisfied: wandb in /usr/local/lib/python3.7/dist-packages (0.12.10)\n",
            "Requirement already satisfied: python-dateutil>=2.6.1 in /usr/local/lib/python3.7/dist-packages (from wandb) (2.8.2)\n",
            "Requirement already satisfied: requests<3,>=2.0.0 in /usr/local/lib/python3.7/dist-packages (from wandb) (2.23.0)\n",
            "Requirement already satisfied: docker-pycreds>=0.4.0 in /usr/local/lib/python3.7/dist-packages (from wandb) (0.4.0)\n",
            "Requirement already satisfied: yaspin>=1.0.0 in /usr/local/lib/python3.7/dist-packages (from wandb) (2.1.0)\n",
            "Requirement already satisfied: protobuf>=3.12.0 in /usr/local/lib/python3.7/dist-packages (from wandb) (3.17.3)\n",
            "Requirement already satisfied: pathtools in /usr/local/lib/python3.7/dist-packages (from wandb) (0.1.2)\n",
            "Requirement already satisfied: psutil>=5.0.0 in /usr/local/lib/python3.7/dist-packages (from wandb) (5.4.8)\n",
            "Requirement already satisfied: promise<3,>=2.0 in /usr/local/lib/python3.7/dist-packages (from wandb) (2.3)\n",
            "Requirement already satisfied: six>=1.13.0 in /usr/local/lib/python3.7/dist-packages (from wandb) (1.15.0)\n",
            "Requirement already satisfied: sentry-sdk>=1.0.0 in /usr/local/lib/python3.7/dist-packages (from wandb) (1.5.6)\n",
            "Requirement already satisfied: GitPython>=1.0.0 in /usr/local/lib/python3.7/dist-packages (from wandb) (3.1.27)\n",
            "Requirement already satisfied: PyYAML in /usr/local/lib/python3.7/dist-packages (from wandb) (3.13)\n",
            "Requirement already satisfied: shortuuid>=0.5.0 in /usr/local/lib/python3.7/dist-packages (from wandb) (1.0.8)\n",
            "Requirement already satisfied: Click!=8.0.0,>=7.0 in /usr/local/lib/python3.7/dist-packages (from wandb) (7.1.2)\n",
            "Requirement already satisfied: typing-extensions>=3.7.4.3 in /usr/local/lib/python3.7/dist-packages (from GitPython>=1.0.0->wandb) (3.10.0.2)\n",
            "Requirement already satisfied: gitdb<5,>=4.0.1 in /usr/local/lib/python3.7/dist-packages (from GitPython>=1.0.0->wandb) (4.0.9)\n",
            "Requirement already satisfied: smmap<6,>=3.0.1 in /usr/local/lib/python3.7/dist-packages (from gitdb<5,>=4.0.1->GitPython>=1.0.0->wandb) (5.0.0)\n",
            "Requirement already satisfied: idna<3,>=2.5 in /usr/local/lib/python3.7/dist-packages (from requests<3,>=2.0.0->wandb) (2.10)\n",
            "Requirement already satisfied: chardet<4,>=3.0.2 in /usr/local/lib/python3.7/dist-packages (from requests<3,>=2.0.0->wandb) (3.0.4)\n",
            "Requirement already satisfied: urllib3!=1.25.0,!=1.25.1,<1.26,>=1.21.1 in /usr/local/lib/python3.7/dist-packages (from requests<3,>=2.0.0->wandb) (1.24.3)\n",
            "Requirement already satisfied: certifi>=2017.4.17 in /usr/local/lib/python3.7/dist-packages (from requests<3,>=2.0.0->wandb) (2021.10.8)\n",
            "Requirement already satisfied: termcolor<2.0.0,>=1.1.0 in /usr/local/lib/python3.7/dist-packages (from yaspin>=1.0.0->wandb) (1.1.0)\n",
            "\u001b[34m\u001b[1mwandb\u001b[0m: Currently logged in as: \u001b[33mcs21m013\u001b[0m (use `wandb login --relogin` to force relogin)\n"
          ]
        }
      ]
    },
    {
      "cell_type": "code",
      "source": [
        "from keras.datasets import mnist\n",
        "import numpy as np\n",
        "import matplotlib.pyplot as plt\n",
        "from sklearn.model_selection import train_test_split\n",
        "import wandb"
      ],
      "metadata": {
        "id": "JmtZEWSOO8sE"
      },
      "execution_count": null,
      "outputs": []
    },
    {
      "cell_type": "code",
      "source": [
        "(x_train, y_train), (x_test, y_test) = mnist.load_data()"
      ],
      "metadata": {
        "id": "pjsA7fULPHoN"
      },
      "execution_count": null,
      "outputs": []
    },
    {
      "cell_type": "code",
      "source": [
        "x_train = x_train.reshape(x_train.shape[0], -1)\n",
        "x_test = x_test.reshape(x_test.shape[0], -1)\n",
        "print(x_train.shape, x_test.shape)\n",
        "x_train = np.array(x_train/255., dtype=np.float32)\n",
        "x_test = np.array(x_test/255., dtype=np.float32)"
      ],
      "metadata": {
        "colab": {
          "base_uri": "https://localhost:8080/"
        },
        "id": "oPgiqanYPKe-",
        "outputId": "dd9a782b-23e6-4eb7-a66a-c50033306db0"
      },
      "execution_count": null,
      "outputs": [
        {
          "output_type": "stream",
          "name": "stdout",
          "text": [
            "(60000, 784) (10000, 784)\n"
          ]
        }
      ]
    },
    {
      "cell_type": "code",
      "source": [
        "def one_hot(Y):\n",
        "    num_labels = len(set(Y))\n",
        "    new_Y = []\n",
        "    for label in Y:\n",
        "        encoding = np.zeros(num_labels)\n",
        "        encoding[label] = 1.\n",
        "        new_Y.append(encoding)\n",
        "    return np.array(new_Y)"
      ],
      "metadata": {
        "id": "JJw-2Xp1PNVV"
      },
      "execution_count": null,
      "outputs": []
    },
    {
      "cell_type": "code",
      "source": [
        "y_train = one_hot(y_train)\n",
        "y_test = one_hot(y_test)\n",
        "y_train.shape, y_test.shape"
      ],
      "metadata": {
        "colab": {
          "base_uri": "https://localhost:8080/"
        },
        "id": "tDHoHKJfPOnU",
        "outputId": "7ed6cebf-fb95-4dbe-a676-98fc1d18c871"
      },
      "execution_count": null,
      "outputs": [
        {
          "output_type": "execute_result",
          "data": {
            "text/plain": [
              "((60000, 10), (10000, 10))"
            ]
          },
          "metadata": {},
          "execution_count": 9
        }
      ]
    },
    {
      "cell_type": "code",
      "source": [
        "def train():\n",
        "    steps = 0\n",
        "    # Default values for hyper-parameters we're going to sweep over\n",
        "    config_defaults = {\n",
        "        'epochs': 10,\n",
        "        'no_hidden_layer':4,\n",
        "        'learning_rate': 1e-3,\n",
        "        'opt':'adam',\n",
        "        'activation':'tanh',\n",
        "        'batch_size':64,\n",
        "        'size_hidden':128,\n",
        "        'reg':0,\n",
        "        'init_type':'Xavier'\n",
        "    }\n",
        "\n",
        "    # Initialize a new wandb run\n",
        "    wandb.init(project='Sweep_test', entity='cs21m007_cs21m013',config=config_defaults)\n",
        "    \n",
        "    \n",
        "    # Config is a variable that holds and saves hyperparameters and inputs\n",
        "    config = wandb.config\n",
        "    lr = config.learning_rate\n",
        "    epochs = config.epochs\n",
        "    opt = config.opt\n",
        "    acti=config.activation\n",
        "    batch_size = config.batch_size\n",
        "    hidden_size=config.size_hidden\n",
        "    reg=config.reg\n",
        "    init_type=config.init_type\n",
        "    no_hidden_layer=config.no_hidden_layer\n",
        "    if opt==\"gd\":\n",
        "        opt=\"GD\"\n",
        "    elif opt=='adam':\n",
        "      opt=\"Adam\"\n",
        "    elif opt=='rmsprop':\n",
        "      opt=\"RMSprop\"\n",
        "    elif opt=='sgdm':\n",
        "      opt='SGDM'\n",
        "    elif opt=='nadam':\n",
        "      opt=\"Nadam\"\n",
        "    elif opt=='nesterov':\n",
        "      opt=\"Nesterov\"\n",
        "    # Model training here\n",
        "    model = Neural_Network()\n",
        "    for i in range(no_hidden_layer):\n",
        "        model.add(Layer(hidden_size, activation=acti))\n",
        "\n",
        "    model.add(Layer(10, activation='softmax'))\n",
        "    print(model.layers)\n",
        "    model.fit(x_train, y_train,batch_size=batch_size,epochs=epochs, learning_rate=lr, optimizer=opt,val_split=0.1,init_type=init_type,loss_type=\"CrossEntropy\",reg=reg)"
      ],
      "metadata": {
        "id": "SOMRUNDNPWjk"
      },
      "execution_count": null,
      "outputs": []
    },
    {
      "cell_type": "markdown",
      "source": [
        "**Config 1**"
      ],
      "metadata": {
        "id": "cEzE1UlCdTjl"
      }
    },
    {
      "cell_type": "code",
      "source": [
        "sweep_config = {\n",
        "    'method': 'grid', #grid, random\n",
        "    'metric': {\n",
        "      'name': 'Val/Accuracy',\n",
        "      'goal': 'maximize'   \n",
        "    },\n",
        "    'parameters': {\n",
        "        'epochs': {\n",
        "            'values': [10]\n",
        "        },\n",
        "        'no_hidden_layer':{\n",
        "            'values': [4]  \n",
        "        },\n",
        "        'learning_rate': {\n",
        "            'values': [1e-4]\n",
        "        },\n",
        "        'opt': {\n",
        "            'values': ['rmsprop']\n",
        "        },\n",
        "        'activation': {\n",
        "            'values': ['tanh']\n",
        "        },\n",
        "        'batch_size':{\n",
        "            'values':[64]\n",
        "        },\n",
        "        'size_hidden':{\n",
        "            'values':[64]\n",
        "        },\n",
        "        'reg':{\n",
        "            'values': [0.0005]\n",
        "        },\n",
        "        'init_type':{\n",
        "            'values': ['Xavier']  \n",
        "        }\n",
        "    }\n",
        "}"
      ],
      "metadata": {
        "id": "bjn5lZX-dGq2"
      },
      "execution_count": null,
      "outputs": []
    },
    {
      "cell_type": "code",
      "source": [
        "sweep_id = wandb.sweep(sweep_config, entity=\"cs21m007_cs21m013\", project=\"Mnist_best_parameter\")"
      ],
      "metadata": {
        "colab": {
          "base_uri": "https://localhost:8080/"
        },
        "id": "Tjg-qbm5dJp1",
        "outputId": "2394777e-118f-42c1-bc7d-c088f1788af9"
      },
      "execution_count": null,
      "outputs": [
        {
          "output_type": "stream",
          "name": "stdout",
          "text": [
            "Create sweep with ID: hkx3zi7c\n",
            "Sweep URL: https://wandb.ai/cs21m007_cs21m013/Mnist_best_parameter/sweeps/hkx3zi7c\n"
          ]
        }
      ]
    },
    {
      "cell_type": "code",
      "source": [
        "wandb.agent(sweep_id, train)"
      ],
      "metadata": {
        "colab": {
          "base_uri": "https://localhost:8080/",
          "height": 967,
          "referenced_widgets": [
            "b48ae847bf454bc0968a927ddc5fd068",
            "2c9b5db529aa48c5a3c6a28f0e0520a9",
            "c90ca35ea69e4cf8a330983cb5da35b9",
            "633c56fb264c4230bfeac75d695ff7a8",
            "9c1274b18be04692b1fbb137ca2e6dea",
            "e70efd90474e45f2abe32b5612f66650",
            "48d5c2bd71b54386b279fe156e9e543c",
            "7ec61a11793547f4bed78e346d01b52e"
          ]
        },
        "id": "eyHx6EmEQLIE",
        "outputId": "4e6cd55d-848e-46eb-e7e0-bf68e9fc1037"
      },
      "execution_count": null,
      "outputs": [
        {
          "output_type": "stream",
          "name": "stderr",
          "text": [
            "\u001b[34m\u001b[1mwandb\u001b[0m: Agent Starting Run: h9qycewq with config:\n",
            "\u001b[34m\u001b[1mwandb\u001b[0m: \tactivation: tanh\n",
            "\u001b[34m\u001b[1mwandb\u001b[0m: \tbatch_size: 64\n",
            "\u001b[34m\u001b[1mwandb\u001b[0m: \tepochs: 10\n",
            "\u001b[34m\u001b[1mwandb\u001b[0m: \tinit_type: Xavier\n",
            "\u001b[34m\u001b[1mwandb\u001b[0m: \tlearning_rate: 0.0001\n",
            "\u001b[34m\u001b[1mwandb\u001b[0m: \tno_hidden_layer: 4\n",
            "\u001b[34m\u001b[1mwandb\u001b[0m: \topt: rmsprop\n",
            "\u001b[34m\u001b[1mwandb\u001b[0m: \treg: 0.0005\n",
            "\u001b[34m\u001b[1mwandb\u001b[0m: \tsize_hidden: 64\n",
            "\u001b[34m\u001b[1mwandb\u001b[0m: \u001b[33mWARNING\u001b[0m Ignored wandb.init() arg project when running a sweep.\n",
            "\u001b[34m\u001b[1mwandb\u001b[0m: \u001b[33mWARNING\u001b[0m Ignored wandb.init() arg entity when running a sweep.\n"
          ]
        },
        {
          "output_type": "display_data",
          "data": {
            "text/html": [
              "\n",
              "                    Syncing run <strong><a href=\"https://wandb.ai/cs21m007_cs21m013/Mnist_best_parameter/runs/h9qycewq\" target=\"_blank\">celestial-sweep-1</a></strong> to <a href=\"https://wandb.ai/cs21m007_cs21m013/Mnist_best_parameter\" target=\"_blank\">Weights & Biases</a> (<a href=\"https://docs.wandb.com/integrations/jupyter.html\" target=\"_blank\">docs</a>).<br/>\n",
              "Sweep page: <a href=\"https://wandb.ai/cs21m007_cs21m013/Mnist_best_parameter/sweeps/hkx3zi7c\" target=\"_blank\">https://wandb.ai/cs21m007_cs21m013/Mnist_best_parameter/sweeps/hkx3zi7c</a><br/>\n",
              "\n",
              "                "
            ],
            "text/plain": [
              "<IPython.core.display.HTML object>"
            ]
          },
          "metadata": {}
        },
        {
          "output_type": "stream",
          "name": "stdout",
          "text": [
            "{1: Hidden Units=64; Activation=tanh, 2: Hidden Units=64; Activation=tanh, 3: Hidden Units=64; Activation=tanh, 4: Hidden Units=64; Activation=tanh, 5: Hidden Units=10; Activation=softmax}\n",
            "Epoch 1\n",
            "Train Loss:0.40491474885877843 Train Acc: 94.19074074074074 Val Acc: 93.7 Val Loss: 0.34083419429348866\n",
            "Epoch 2\n",
            "Train Loss:0.3329108902064813 Train Acc: 95.70185185185184 Val Acc: 95.16666666666667 Val Loss: 0.28635896482110546\n",
            "Epoch 3\n",
            "Train Loss:0.262573483766684 Train Acc: 96.38518518518518 Val Acc: 95.73333333333333 Val Loss: 0.26307236844631676\n",
            "Epoch 4\n",
            "Train Loss:0.23724152907440865 Train Acc: 96.71851851851852 Val Acc: 95.93333333333334 Val Loss: 0.24700502341062186\n",
            "Epoch 5\n",
            "Train Loss:0.23461938563248658 Train Acc: 96.96296296296296 Val Acc: 96.11666666666666 Val Loss: 0.235549181096617\n",
            "Epoch 6\n",
            "Train Loss:0.24926687944105697 Train Acc: 97.11296296296297 Val Acc: 96.26666666666667 Val Loss: 0.22625598166417304\n",
            "Epoch 7\n",
            "Train Loss:0.24742585613979057 Train Acc: 97.12962962962963 Val Acc: 96.31666666666666 Val Loss: 0.22249821090774258\n",
            "Epoch 8\n",
            "Train Loss:0.23762278845182783 Train Acc: 97.09629629629629 Val Acc: 96.15 Val Loss: 0.22089425039322583\n",
            "Epoch 9\n",
            "Train Loss:0.22935969277616955 Train Acc: 97.15555555555555 Val Acc: 96.03333333333333 Val Loss: 0.21809083301917234\n",
            "Epoch 10\n",
            "Train Loss:0.23515794358238476 Train Acc: 97.25555555555555 Val Acc: 96.08333333333333 Val Loss: 0.2134053296193289\n"
          ]
        },
        {
          "output_type": "display_data",
          "data": {
            "text/html": [
              "<br/>Waiting for W&B process to finish, PID 692... <strong style=\"color:green\">(success).</strong>"
            ],
            "text/plain": [
              "<IPython.core.display.HTML object>"
            ]
          },
          "metadata": {}
        },
        {
          "output_type": "display_data",
          "data": {
            "application/vnd.jupyter.widget-view+json": {
              "model_id": "b48ae847bf454bc0968a927ddc5fd068",
              "version_minor": 0,
              "version_major": 2
            },
            "text/plain": [
              "VBox(children=(Label(value=' 0.00MB of 0.00MB uploaded (0.00MB deduped)\\r'), FloatProgress(value=1.0, max=1.0)…"
            ]
          },
          "metadata": {}
        },
        {
          "output_type": "display_data",
          "data": {
            "text/html": [
              "<style>\n",
              "    table.wandb td:nth-child(1) { padding: 0 10px; text-align: right }\n",
              "    .wandb-row { display: flex; flex-direction: row; flex-wrap: wrap; width: 100% }\n",
              "    .wandb-col { display: flex; flex-direction: column; flex-basis: 100%; flex: 1; padding: 10px; }\n",
              "    </style>\n",
              "<div class=\"wandb-row\"><div class=\"wandb-col\">\n",
              "<h3>Run history:</h3><br/><table class=\"wandb\"><tr><td>Epoch</td><td>▁▂▃▃▄▅▆▆▇█</td></tr><tr><td>Train/Accuracy</td><td>▁▄▆▇▇█████</td></tr><tr><td>Train/Loss</td><td>█▅▂▁▁▂▂▁▁▁</td></tr><tr><td>Val/Accuracy</td><td>▁▅▆▇▇███▇▇</td></tr><tr><td>Val/Loss</td><td>█▅▄▃▂▂▁▁▁▁</td></tr></table><br/></div><div class=\"wandb-col\">\n",
              "<h3>Run summary:</h3><br/><table class=\"wandb\"><tr><td>Epoch</td><td>10</td></tr><tr><td>Train/Accuracy</td><td>97.25556</td></tr><tr><td>Train/Loss</td><td>0.23516</td></tr><tr><td>Val/Accuracy</td><td>96.08333</td></tr><tr><td>Val/Loss</td><td>0.21341</td></tr></table>\n",
              "</div></div>\n",
              "Synced 5 W&B file(s), 0 media file(s), 0 artifact file(s) and 0 other file(s)\n",
              "<br/>Synced <strong style=\"color:#cdcd00\">celestial-sweep-1</strong>: <a href=\"https://wandb.ai/cs21m007_cs21m013/Mnist_best_parameter/runs/h9qycewq\" target=\"_blank\">https://wandb.ai/cs21m007_cs21m013/Mnist_best_parameter/runs/h9qycewq</a><br/>\n",
              "Find logs at: <code>./wandb/run-20220222_180932-h9qycewq/logs</code><br/>\n"
            ],
            "text/plain": [
              "<IPython.core.display.HTML object>"
            ]
          },
          "metadata": {}
        },
        {
          "output_type": "stream",
          "name": "stderr",
          "text": [
            "\u001b[34m\u001b[1mwandb\u001b[0m: Sweep Agent: Waiting for job.\n",
            "\u001b[34m\u001b[1mwandb\u001b[0m: Sweep Agent: Exiting.\n"
          ]
        }
      ]
    },
    {
      "cell_type": "markdown",
      "source": [
        "**Config 2**"
      ],
      "metadata": {
        "id": "DJz6kekOf_pe"
      }
    },
    {
      "cell_type": "code",
      "source": [
        "sweep_config = {\n",
        "    'method': 'grid', #grid, random\n",
        "    'metric': {\n",
        "      'name': 'Val/Accuracy',\n",
        "      'goal': 'maximize'   \n",
        "    },\n",
        "    'parameters': {\n",
        "        'epochs': {\n",
        "            'values': [10]\n",
        "        },\n",
        "        'no_hidden_layer':{\n",
        "            'values': [4]  \n",
        "        },\n",
        "        'learning_rate': {\n",
        "            'values': [1e-3]\n",
        "        },\n",
        "        'opt': {\n",
        "            'values': ['Nadam']\n",
        "        },\n",
        "        'activation': {\n",
        "            'values': ['tanh']\n",
        "        },\n",
        "        'batch_size':{\n",
        "            'values':[64]\n",
        "        },\n",
        "        'size_hidden':{\n",
        "            'values':[64]\n",
        "        },\n",
        "        'reg':{\n",
        "            'values': [0]\n",
        "        },\n",
        "        'init_type':{\n",
        "            'values': ['Xavier']  \n",
        "        }\n",
        "    }\n",
        "}"
      ],
      "metadata": {
        "id": "ZQUS5Hx0QOCk"
      },
      "execution_count": null,
      "outputs": []
    },
    {
      "cell_type": "code",
      "source": [
        "sweep_id = wandb.sweep(sweep_config, entity=\"cs21m007_cs21m013\", project=\"Mnist_best_parameter\")"
      ],
      "metadata": {
        "colab": {
          "base_uri": "https://localhost:8080/"
        },
        "id": "B_j3OrYfhaiv",
        "outputId": "646e1cd1-b193-4ba6-db1c-26971bee3159"
      },
      "execution_count": null,
      "outputs": [
        {
          "output_type": "stream",
          "name": "stdout",
          "text": [
            "Create sweep with ID: lz3rrdst\n",
            "Sweep URL: https://wandb.ai/cs21m007_cs21m013/Mnist_best_parameter/sweeps/lz3rrdst\n"
          ]
        }
      ]
    },
    {
      "cell_type": "code",
      "source": [
        "wandb.agent(sweep_id, train)"
      ],
      "metadata": {
        "colab": {
          "base_uri": "https://localhost:8080/",
          "height": 967,
          "referenced_widgets": [
            "c5c2c9ef604f462e9990ea452df0a7f1",
            "f332136522fe4fe8b2217332b6bedf15",
            "1e2c8720541d4f959f2a44547da9215c",
            "69143fed8a8c4eb6adb1559493b92e03",
            "15379ba38d654affb5dbbb3115afee67",
            "7829cb0cd2c243409c16d7520cac7770",
            "2e46530970e548e8b3380816fd9c901a",
            "68d8fb221b584d5e94fdb539e3b8b9fe"
          ]
        },
        "id": "Scx8fd3ohbVu",
        "outputId": "dc7a76e9-06c6-4653-d541-8cc48e3a3271"
      },
      "execution_count": null,
      "outputs": [
        {
          "output_type": "stream",
          "name": "stderr",
          "text": [
            "\u001b[34m\u001b[1mwandb\u001b[0m: Agent Starting Run: adusk65i with config:\n",
            "\u001b[34m\u001b[1mwandb\u001b[0m: \tactivation: tanh\n",
            "\u001b[34m\u001b[1mwandb\u001b[0m: \tbatch_size: 64\n",
            "\u001b[34m\u001b[1mwandb\u001b[0m: \tepochs: 10\n",
            "\u001b[34m\u001b[1mwandb\u001b[0m: \tinit_type: Xavier\n",
            "\u001b[34m\u001b[1mwandb\u001b[0m: \tlearning_rate: 0.001\n",
            "\u001b[34m\u001b[1mwandb\u001b[0m: \tno_hidden_layer: 4\n",
            "\u001b[34m\u001b[1mwandb\u001b[0m: \topt: Nadam\n",
            "\u001b[34m\u001b[1mwandb\u001b[0m: \treg: 0\n",
            "\u001b[34m\u001b[1mwandb\u001b[0m: \tsize_hidden: 64\n",
            "\u001b[34m\u001b[1mwandb\u001b[0m: \u001b[33mWARNING\u001b[0m Ignored wandb.init() arg project when running a sweep.\n",
            "\u001b[34m\u001b[1mwandb\u001b[0m: \u001b[33mWARNING\u001b[0m Ignored wandb.init() arg entity when running a sweep.\n"
          ]
        },
        {
          "output_type": "display_data",
          "data": {
            "text/html": [
              "\n",
              "                    Syncing run <strong><a href=\"https://wandb.ai/cs21m007_cs21m013/Mnist_best_parameter/runs/adusk65i\" target=\"_blank\">brisk-sweep-1</a></strong> to <a href=\"https://wandb.ai/cs21m007_cs21m013/Mnist_best_parameter\" target=\"_blank\">Weights & Biases</a> (<a href=\"https://docs.wandb.com/integrations/jupyter.html\" target=\"_blank\">docs</a>).<br/>\n",
              "Sweep page: <a href=\"https://wandb.ai/cs21m007_cs21m013/Mnist_best_parameter/sweeps/lz3rrdst\" target=\"_blank\">https://wandb.ai/cs21m007_cs21m013/Mnist_best_parameter/sweeps/lz3rrdst</a><br/>\n",
              "\n",
              "                "
            ],
            "text/plain": [
              "<IPython.core.display.HTML object>"
            ]
          },
          "metadata": {}
        },
        {
          "output_type": "stream",
          "name": "stdout",
          "text": [
            "{1: Hidden Units=64; Activation=tanh, 2: Hidden Units=64; Activation=tanh, 3: Hidden Units=64; Activation=tanh, 4: Hidden Units=64; Activation=tanh, 5: Hidden Units=10; Activation=softmax}\n",
            "Epoch 1\n",
            "Train Loss:0.3029054194641873 Train Acc: 92.46296296296296 Val Acc: 91.83333333333333 Val Loss: 0.27681843793485766\n",
            "Epoch 2\n",
            "Train Loss:0.21140556147806633 Train Acc: 94.15925925925926 Val Acc: 93.61666666666667 Val Loss: 0.22430180105950084\n",
            "Epoch 3\n",
            "Train Loss:0.16558585407425075 Train Acc: 95.07962962962962 Val Acc: 94.33333333333334 Val Loss: 0.20161405895429288\n",
            "Epoch 4\n",
            "Train Loss:0.14588760709665236 Train Acc: 95.71481481481482 Val Acc: 94.73333333333333 Val Loss: 0.18677609371274673\n",
            "Epoch 5\n",
            "Train Loss:0.13015181748730303 Train Acc: 96.12962962962963 Val Acc: 94.91666666666667 Val Loss: 0.17824551764709504\n",
            "Epoch 6\n",
            "Train Loss:0.1260047255737307 Train Acc: 96.39259259259259 Val Acc: 95.06666666666666 Val Loss: 0.1731738161477775\n",
            "Epoch 7\n",
            "Train Loss:0.11063099072621288 Train Acc: 96.62222222222222 Val Acc: 95.25 Val Loss: 0.16929282525834013\n",
            "Epoch 8\n",
            "Train Loss:0.10311170877662526 Train Acc: 96.85555555555555 Val Acc: 95.53333333333333 Val Loss: 0.16581776185515526\n",
            "Epoch 9\n",
            "Train Loss:0.10655224184915825 Train Acc: 96.9962962962963 Val Acc: 95.51666666666667 Val Loss: 0.1661699365260639\n",
            "Epoch 10\n",
            "Train Loss:0.10138397228092189 Train Acc: 97.1037037037037 Val Acc: 95.68333333333334 Val Loss: 0.1658557027153122\n"
          ]
        },
        {
          "output_type": "display_data",
          "data": {
            "text/html": [
              "<br/>Waiting for W&B process to finish, PID 448... <strong style=\"color:green\">(success).</strong>"
            ],
            "text/plain": [
              "<IPython.core.display.HTML object>"
            ]
          },
          "metadata": {}
        },
        {
          "output_type": "display_data",
          "data": {
            "application/vnd.jupyter.widget-view+json": {
              "model_id": "c5c2c9ef604f462e9990ea452df0a7f1",
              "version_minor": 0,
              "version_major": 2
            },
            "text/plain": [
              "VBox(children=(Label(value=' 0.00MB of 0.00MB uploaded (0.00MB deduped)\\r'), FloatProgress(value=1.0, max=1.0)…"
            ]
          },
          "metadata": {}
        },
        {
          "output_type": "display_data",
          "data": {
            "text/html": [
              "<style>\n",
              "    table.wandb td:nth-child(1) { padding: 0 10px; text-align: right }\n",
              "    .wandb-row { display: flex; flex-direction: row; flex-wrap: wrap; width: 100% }\n",
              "    .wandb-col { display: flex; flex-direction: column; flex-basis: 100%; flex: 1; padding: 10px; }\n",
              "    </style>\n",
              "<div class=\"wandb-row\"><div class=\"wandb-col\">\n",
              "<h3>Run history:</h3><br/><table class=\"wandb\"><tr><td>Epoch</td><td>▁▂▃▃▄▅▆▆▇█</td></tr><tr><td>Train/Accuracy</td><td>▁▄▅▆▇▇▇███</td></tr><tr><td>Train/Loss</td><td>█▅▃▃▂▂▁▁▁▁</td></tr><tr><td>Val/Accuracy</td><td>▁▄▆▆▇▇▇███</td></tr><tr><td>Val/Loss</td><td>█▅▃▂▂▁▁▁▁▁</td></tr></table><br/></div><div class=\"wandb-col\">\n",
              "<h3>Run summary:</h3><br/><table class=\"wandb\"><tr><td>Epoch</td><td>10</td></tr><tr><td>Train/Accuracy</td><td>97.1037</td></tr><tr><td>Train/Loss</td><td>0.10138</td></tr><tr><td>Val/Accuracy</td><td>95.68333</td></tr><tr><td>Val/Loss</td><td>0.16586</td></tr></table>\n",
              "</div></div>\n",
              "Synced 5 W&B file(s), 0 media file(s), 0 artifact file(s) and 0 other file(s)\n",
              "<br/>Synced <strong style=\"color:#cdcd00\">brisk-sweep-1</strong>: <a href=\"https://wandb.ai/cs21m007_cs21m013/Mnist_best_parameter/runs/adusk65i\" target=\"_blank\">https://wandb.ai/cs21m007_cs21m013/Mnist_best_parameter/runs/adusk65i</a><br/>\n",
              "Find logs at: <code>./wandb/run-20220222_174520-adusk65i/logs</code><br/>\n"
            ],
            "text/plain": [
              "<IPython.core.display.HTML object>"
            ]
          },
          "metadata": {}
        },
        {
          "output_type": "stream",
          "name": "stderr",
          "text": [
            "\u001b[34m\u001b[1mwandb\u001b[0m: Sweep Agent: Waiting for job.\n",
            "\u001b[34m\u001b[1mwandb\u001b[0m: Sweep Agent: Exiting.\n"
          ]
        }
      ]
    },
    {
      "cell_type": "markdown",
      "source": [
        "**Config 3**"
      ],
      "metadata": {
        "id": "OkrdYpv_he5-"
      }
    },
    {
      "cell_type": "code",
      "source": [
        "sweep_config = {\n",
        "    'method': 'grid', #grid, random\n",
        "    'metric': {\n",
        "      'name': 'Val/Accuracy',\n",
        "      'goal': 'maximize'   \n",
        "    },\n",
        "    'parameters': {\n",
        "        'epochs': {\n",
        "            'values': [10]\n",
        "        },\n",
        "        'no_hidden_layer':{\n",
        "            'values': [5]  \n",
        "        },\n",
        "        'learning_rate': {\n",
        "            'values': [1e-4]\n",
        "        },\n",
        "        'opt': {\n",
        "            'values': ['Nadam']\n",
        "        },\n",
        "        'activation': {\n",
        "            'values': ['tanh']\n",
        "        },\n",
        "        'batch_size':{\n",
        "            'values':[64]\n",
        "        },\n",
        "        'size_hidden':{\n",
        "            'values':[128]\n",
        "        },\n",
        "        'reg':{\n",
        "            'values': [0]\n",
        "        },\n",
        "        'init_type':{\n",
        "            'values': ['Xavier']  \n",
        "        }\n",
        "    }\n",
        "}"
      ],
      "metadata": {
        "id": "kDqrxHOahd9m"
      },
      "execution_count": null,
      "outputs": []
    },
    {
      "cell_type": "code",
      "source": [
        "sweep_id = wandb.sweep(sweep_config, entity=\"cs21m007_cs21m013\", project=\"Mnist_best_parameter\")"
      ],
      "metadata": {
        "colab": {
          "base_uri": "https://localhost:8080/"
        },
        "id": "PHuuuuNsh8YW",
        "outputId": "a8b30563-d396-43c3-9103-cf20ad4f6f82"
      },
      "execution_count": null,
      "outputs": [
        {
          "output_type": "stream",
          "name": "stdout",
          "text": [
            "Create sweep with ID: qijk41bi\n",
            "Sweep URL: https://wandb.ai/cs21m007_cs21m013/Mnist_best_parameter/sweeps/qijk41bi\n"
          ]
        }
      ]
    },
    {
      "cell_type": "code",
      "source": [
        "wandb.agent(sweep_id, train)"
      ],
      "metadata": {
        "colab": {
          "base_uri": "https://localhost:8080/",
          "height": 967,
          "referenced_widgets": [
            "52fe14b49a1343b881d6ba75e619d717",
            "4651399769d44250875d9d0fc90bf1bc",
            "05d2757c96aa4158bdf116f1cb6e5dde",
            "f866ec738eeb49c89e699d7c42170a23",
            "812872a68f88426fa429723f0a5c3b1e",
            "93af0f77f8594e9f8c8603b7ee940982",
            "877686c5f0324579a0ed1830ca472120",
            "f29f44389f8b4a48b3b893d333f15884"
          ]
        },
        "id": "chXrBJw6h_mG",
        "outputId": "28582f76-b485-4877-acdd-f2d5c8bc643d"
      },
      "execution_count": null,
      "outputs": [
        {
          "output_type": "stream",
          "name": "stderr",
          "text": [
            "\u001b[34m\u001b[1mwandb\u001b[0m: Agent Starting Run: nbp2o23u with config:\n",
            "\u001b[34m\u001b[1mwandb\u001b[0m: \tactivation: tanh\n",
            "\u001b[34m\u001b[1mwandb\u001b[0m: \tbatch_size: 64\n",
            "\u001b[34m\u001b[1mwandb\u001b[0m: \tepochs: 10\n",
            "\u001b[34m\u001b[1mwandb\u001b[0m: \tinit_type: Xavier\n",
            "\u001b[34m\u001b[1mwandb\u001b[0m: \tlearning_rate: 0.0001\n",
            "\u001b[34m\u001b[1mwandb\u001b[0m: \tno_hidden_layer: 5\n",
            "\u001b[34m\u001b[1mwandb\u001b[0m: \topt: Nadam\n",
            "\u001b[34m\u001b[1mwandb\u001b[0m: \treg: 0\n",
            "\u001b[34m\u001b[1mwandb\u001b[0m: \tsize_hidden: 128\n",
            "\u001b[34m\u001b[1mwandb\u001b[0m: \u001b[33mWARNING\u001b[0m Ignored wandb.init() arg project when running a sweep.\n",
            "\u001b[34m\u001b[1mwandb\u001b[0m: \u001b[33mWARNING\u001b[0m Ignored wandb.init() arg entity when running a sweep.\n"
          ]
        },
        {
          "output_type": "display_data",
          "data": {
            "text/html": [
              "\n",
              "                    Syncing run <strong><a href=\"https://wandb.ai/cs21m007_cs21m013/Mnist_best_parameter/runs/nbp2o23u\" target=\"_blank\">fragrant-sweep-1</a></strong> to <a href=\"https://wandb.ai/cs21m007_cs21m013/Mnist_best_parameter\" target=\"_blank\">Weights & Biases</a> (<a href=\"https://docs.wandb.com/integrations/jupyter.html\" target=\"_blank\">docs</a>).<br/>\n",
              "Sweep page: <a href=\"https://wandb.ai/cs21m007_cs21m013/Mnist_best_parameter/sweeps/qijk41bi\" target=\"_blank\">https://wandb.ai/cs21m007_cs21m013/Mnist_best_parameter/sweeps/qijk41bi</a><br/>\n",
              "\n",
              "                "
            ],
            "text/plain": [
              "<IPython.core.display.HTML object>"
            ]
          },
          "metadata": {}
        },
        {
          "output_type": "stream",
          "name": "stdout",
          "text": [
            "{1: Hidden Units=128; Activation=tanh, 2: Hidden Units=128; Activation=tanh, 3: Hidden Units=128; Activation=tanh, 4: Hidden Units=128; Activation=tanh, 5: Hidden Units=128; Activation=tanh, 6: Hidden Units=10; Activation=softmax}\n",
            "Epoch 1\n",
            "Train Loss:0.49467192619126515 Train Acc: 89.41481481481482 Val Acc: 88.78333333333333 Val Loss: 0.4016527746938117\n",
            "Epoch 2\n",
            "Train Loss:0.3624323886449217 Train Acc: 91.57407407407408 Val Acc: 90.91666666666667 Val Loss: 0.31146546897989497\n",
            "Epoch 3\n",
            "Train Loss:0.3032881822289193 Train Acc: 92.56296296296296 Val Acc: 92.03333333333333 Val Loss: 0.27515609450279216\n",
            "Epoch 4\n",
            "Train Loss:0.2663310770174474 Train Acc: 93.22777777777777 Val Acc: 92.41666666666667 Val Loss: 0.2524265536143191\n",
            "Epoch 5\n",
            "Train Loss:0.24289303349517727 Train Acc: 93.79074074074074 Val Acc: 93.05 Val Loss: 0.23571806313770396\n",
            "Epoch 6\n",
            "Train Loss:0.22683450945836228 Train Acc: 94.19444444444444 Val Acc: 93.35 Val Loss: 0.22230850029118562\n",
            "Epoch 7\n",
            "Train Loss:0.2150261876057701 Train Acc: 94.57037037037037 Val Acc: 93.71666666666667 Val Loss: 0.21106202562274373\n",
            "Epoch 8\n",
            "Train Loss:0.20615134142767094 Train Acc: 94.85740740740741 Val Acc: 93.95 Val Loss: 0.20139977298179776\n",
            "Epoch 9\n",
            "Train Loss:0.19816495974036152 Train Acc: 95.2037037037037 Val Acc: 94.16666666666667 Val Loss: 0.1930223552100715\n",
            "Epoch 10\n",
            "Train Loss:0.19054872056687047 Train Acc: 95.4462962962963 Val Acc: 94.3 Val Loss: 0.18565386116248664\n"
          ]
        },
        {
          "output_type": "display_data",
          "data": {
            "text/html": [
              "<br/>Waiting for W&B process to finish, PID 618... <strong style=\"color:green\">(success).</strong>"
            ],
            "text/plain": [
              "<IPython.core.display.HTML object>"
            ]
          },
          "metadata": {}
        },
        {
          "output_type": "display_data",
          "data": {
            "application/vnd.jupyter.widget-view+json": {
              "model_id": "52fe14b49a1343b881d6ba75e619d717",
              "version_minor": 0,
              "version_major": 2
            },
            "text/plain": [
              "VBox(children=(Label(value=' 0.00MB of 0.00MB uploaded (0.00MB deduped)\\r'), FloatProgress(value=1.0, max=1.0)…"
            ]
          },
          "metadata": {}
        },
        {
          "output_type": "display_data",
          "data": {
            "text/html": [
              "<style>\n",
              "    table.wandb td:nth-child(1) { padding: 0 10px; text-align: right }\n",
              "    .wandb-row { display: flex; flex-direction: row; flex-wrap: wrap; width: 100% }\n",
              "    .wandb-col { display: flex; flex-direction: column; flex-basis: 100%; flex: 1; padding: 10px; }\n",
              "    </style>\n",
              "<div class=\"wandb-row\"><div class=\"wandb-col\">\n",
              "<h3>Run history:</h3><br/><table class=\"wandb\"><tr><td>Epoch</td><td>▁▂▃▃▄▅▆▆▇█</td></tr><tr><td>Train/Accuracy</td><td>▁▄▅▅▆▇▇▇██</td></tr><tr><td>Train/Loss</td><td>█▅▄▃▂▂▂▁▁▁</td></tr><tr><td>Val/Accuracy</td><td>▁▄▅▆▆▇▇███</td></tr><tr><td>Val/Loss</td><td>█▅▄▃▃▂▂▂▁▁</td></tr></table><br/></div><div class=\"wandb-col\">\n",
              "<h3>Run summary:</h3><br/><table class=\"wandb\"><tr><td>Epoch</td><td>10</td></tr><tr><td>Train/Accuracy</td><td>95.4463</td></tr><tr><td>Train/Loss</td><td>0.19055</td></tr><tr><td>Val/Accuracy</td><td>94.3</td></tr><tr><td>Val/Loss</td><td>0.18565</td></tr></table>\n",
              "</div></div>\n",
              "Synced 5 W&B file(s), 0 media file(s), 0 artifact file(s) and 0 other file(s)\n",
              "<br/>Synced <strong style=\"color:#cdcd00\">fragrant-sweep-1</strong>: <a href=\"https://wandb.ai/cs21m007_cs21m013/Mnist_best_parameter/runs/nbp2o23u\" target=\"_blank\">https://wandb.ai/cs21m007_cs21m013/Mnist_best_parameter/runs/nbp2o23u</a><br/>\n",
              "Find logs at: <code>./wandb/run-20220222_180314-nbp2o23u/logs</code><br/>\n"
            ],
            "text/plain": [
              "<IPython.core.display.HTML object>"
            ]
          },
          "metadata": {}
        },
        {
          "output_type": "stream",
          "name": "stderr",
          "text": [
            "\u001b[34m\u001b[1mwandb\u001b[0m: Sweep Agent: Waiting for job.\n",
            "\u001b[34m\u001b[1mwandb\u001b[0m: Sweep Agent: Exiting.\n"
          ]
        }
      ]
    },
    {
      "cell_type": "markdown",
      "source": [
        "Test and Confusion Matrix"
      ],
      "metadata": {
        "id": "k4NVrYjQp6j9"
      }
    },
    {
      "cell_type": "code",
      "source": [
        "wandb.init(project=\"Mnist_best_parameter\", entity=\"cs21m007_cs21m013\")"
      ],
      "metadata": {
        "colab": {
          "base_uri": "https://localhost:8080/",
          "height": 74
        },
        "id": "ZXgZEqJKp8vi",
        "outputId": "e0ecc7b0-a6aa-4ae0-8c7a-b87c18423117"
      },
      "execution_count": null,
      "outputs": [
        {
          "output_type": "stream",
          "name": "stderr",
          "text": [
            "\u001b[34m\u001b[1mwandb\u001b[0m: Currently logged in as: \u001b[33mcs21m013\u001b[0m (use `wandb login --relogin` to force relogin)\n"
          ]
        },
        {
          "output_type": "display_data",
          "data": {
            "text/html": [
              "\n",
              "                    Syncing run <strong><a href=\"https://wandb.ai/cs21m007_cs21m013/Mnist_best_parameter/runs/22c3wnrs\" target=\"_blank\">lively-leaf-15</a></strong> to <a href=\"https://wandb.ai/cs21m007_cs21m013/Mnist_best_parameter\" target=\"_blank\">Weights & Biases</a> (<a href=\"https://docs.wandb.com/integrations/jupyter.html\" target=\"_blank\">docs</a>).<br/>\n",
              "\n",
              "                "
            ],
            "text/plain": [
              "<IPython.core.display.HTML object>"
            ]
          },
          "metadata": {}
        },
        {
          "output_type": "execute_result",
          "data": {
            "text/plain": [
              "<wandb.sdk.wandb_run.Run at 0x7f0d70cd9190>"
            ],
            "text/html": [
              "<button onClick=\"this.nextSibling.style.display='block';this.style.display='none';\">Display W&B run</button><iframe src=\"https://wandb.ai/cs21m007_cs21m013/Mnist_best_parameter/runs/22c3wnrs?jupyter=true\" style=\"border:none;width:100%;height:420px;display:none;\"></iframe>"
            ]
          },
          "metadata": {},
          "execution_count": 10
        }
      ]
    },
    {
      "cell_type": "code",
      "source": [
        "epochs = 10\n",
        "acti='tanh'\n",
        "lr = 1e-3\n",
        "batch_size = 64\n",
        "optimizer=\"Nadam\"\n",
        "init_type=\"Xavier\"\n",
        "loss_type=\"CrossEntropy\"\n",
        "reg=0\n",
        "hidden_size=64\n",
        "no_hidden_layer=4\n",
        "\n",
        "\n",
        "\n",
        "model = Neural_Network()\n",
        "\n",
        "for i in range(no_hidden_layer):\n",
        "        model.add(Layer(hidden_size, activation=acti))\n",
        "\n",
        "model.add(Layer(10, activation='softmax'))\n",
        "print(model.layers)\n",
        "model.fit(x_train, y_train,batch_size=batch_size,epochs=epochs, learning_rate=lr, optimizer=optimizer,val_split=0.1,init_type=init_type,loss_type=loss_type,reg=reg)\n",
        "y_prob=model.predict(x_test)"
      ],
      "metadata": {
        "colab": {
          "base_uri": "https://localhost:8080/"
        },
        "id": "v2Ub_KVGqEfS",
        "outputId": "7a1c3f9f-30a3-433b-8017-9f36e981867f"
      },
      "execution_count": null,
      "outputs": [
        {
          "output_type": "stream",
          "name": "stdout",
          "text": [
            "{1: Hidden Units=64; Activation=tanh, 2: Hidden Units=64; Activation=tanh, 3: Hidden Units=64; Activation=tanh, 4: Hidden Units=64; Activation=tanh, 5: Hidden Units=10; Activation=softmax}\n",
            "Epoch 1\n",
            "Train Loss:0.3029054194641873 Train Acc: 92.46296296296296 Val Acc: 91.83333333333333 Val Loss: 0.27681843793485766\n",
            "Epoch 2\n",
            "Train Loss:0.21140556147806633 Train Acc: 94.15925925925926 Val Acc: 93.61666666666667 Val Loss: 0.22430180105950084\n",
            "Epoch 3\n",
            "Train Loss:0.16558585407425075 Train Acc: 95.07962962962962 Val Acc: 94.33333333333334 Val Loss: 0.20161405895429288\n",
            "Epoch 4\n",
            "Train Loss:0.14588760709665236 Train Acc: 95.71481481481482 Val Acc: 94.73333333333333 Val Loss: 0.18677609371274673\n",
            "Epoch 5\n",
            "Train Loss:0.13015181748730303 Train Acc: 96.12962962962963 Val Acc: 94.91666666666667 Val Loss: 0.17824551764709504\n",
            "Epoch 6\n",
            "Train Loss:0.1260047255737307 Train Acc: 96.39259259259259 Val Acc: 95.06666666666666 Val Loss: 0.1731738161477775\n",
            "Epoch 7\n",
            "Train Loss:0.11063099072621288 Train Acc: 96.62222222222222 Val Acc: 95.25 Val Loss: 0.16929282525834013\n",
            "Epoch 8\n",
            "Train Loss:0.10311170877662526 Train Acc: 96.85555555555555 Val Acc: 95.53333333333333 Val Loss: 0.16581776185515526\n",
            "Epoch 9\n",
            "Train Loss:0.10655224184915825 Train Acc: 96.9962962962963 Val Acc: 95.51666666666667 Val Loss: 0.1661699365260639\n",
            "Epoch 10\n",
            "Train Loss:0.10138397228092189 Train Acc: 97.1037037037037 Val Acc: 95.68333333333334 Val Loss: 0.1658557027153122\n"
          ]
        }
      ]
    },
    {
      "cell_type": "code",
      "source": [
        "help=Helper()\n",
        "accuracy=help.accuracy(y_test,y_prob)"
      ],
      "metadata": {
        "id": "x6w1NBImqGMv"
      },
      "execution_count": null,
      "outputs": []
    },
    {
      "cell_type": "code",
      "source": [
        "(x_train, y_train), (x_test, y_test) = mnist.load_data()"
      ],
      "metadata": {
        "id": "UVEtPjAkqH2t"
      },
      "execution_count": null,
      "outputs": []
    },
    {
      "cell_type": "code",
      "source": [
        "class_type = ['T-shirt/top', 'Trouser', 'Pullover', 'Dress', 'Coat','Sandal', 'Shirt', 'Sneaker', 'Bag', 'Ankle boot'] "
      ],
      "metadata": {
        "id": "l4owaMMisWv4"
      },
      "execution_count": null,
      "outputs": []
    },
    {
      "cell_type": "code",
      "source": [
        "class_list=[]\n",
        "for i in range(10):\n",
        "    for j in range(len(y_train)):\n",
        "        if y_train[j] == i :\n",
        "            class_list.append(class_type[y_train[j]])\n",
        "            break"
      ],
      "metadata": {
        "id": "su8727oVsXWJ"
      },
      "execution_count": null,
      "outputs": []
    },
    {
      "cell_type": "code",
      "source": [
        "x_test = x_test.reshape(x_test.shape[0], -1)\n",
        "x_test = np.array(x_test/255., dtype=np.float32)"
      ],
      "metadata": {
        "id": "NGtcKZ2kqJAQ"
      },
      "execution_count": null,
      "outputs": []
    },
    {
      "cell_type": "code",
      "source": [
        "y_prob=np.empty(np.shape(y_test))\n",
        "#finding y predicted\n",
        "for i,x in enumerate(x_test):\n",
        "    y_prob[i]= (model.predict(x)[0]).argmax()"
      ],
      "metadata": {
        "id": "pfxQmfKcqLBk"
      },
      "execution_count": null,
      "outputs": []
    },
    {
      "cell_type": "code",
      "source": [
        "y_test,y_prob.shape"
      ],
      "metadata": {
        "colab": {
          "base_uri": "https://localhost:8080/"
        },
        "id": "ALq2xqT3qMfS",
        "outputId": "2516f435-59ec-4e6b-a5de-57287b81d2d5"
      },
      "execution_count": null,
      "outputs": [
        {
          "output_type": "execute_result",
          "data": {
            "text/plain": [
              "(array([7, 2, 1, ..., 4, 5, 6], dtype=uint8), (10000,))"
            ]
          },
          "metadata": {},
          "execution_count": 18
        }
      ]
    },
    {
      "cell_type": "code",
      "source": [
        "wandb.log({\"conf_mat\" : wandb.plot.confusion_matrix(preds=y_prob, y_true=y_test, class_names=class_list),\"Test Accuracy\": accuracy })"
      ],
      "metadata": {
        "id": "UbapwbCnqOMx"
      },
      "execution_count": null,
      "outputs": []
    },
    {
      "cell_type": "code",
      "source": [
        ""
      ],
      "metadata": {
        "id": "i-GRronrqPKf"
      },
      "execution_count": null,
      "outputs": []
    }
  ]
}